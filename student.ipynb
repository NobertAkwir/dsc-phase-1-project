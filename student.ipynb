{
 "cells": [
  {
   "cell_type": "markdown",
   "metadata": {},
   "source": [
    "<img src=\"popcorn.jpg\" alt=\"movie\" />"
   ]
  },
  {
   "cell_type": "markdown",
   "metadata": {},
   "source": [
    "# Phase 1 Project\n",
    "**Author: Nobert Akwir Ogwel**"
   ]
  },
  {
   "cell_type": "markdown",
   "metadata": {},
   "source": [
    "# Overview\n",
    "This Project analyzes movies datasets from various movie rating sites (through Exploratory Data Analysis), to assist the head of Microsoft's new movies studio in deciding what type of films to create under their new venture.\n",
    "___"
   ]
  },
  {
   "cell_type": "markdown",
   "metadata": {},
   "source": [
    "# Business Backround\n",
    "Microsoft is an American multinational computer technology corporation, started in 1975. Its main business was in developing, licensing, and supporting a range of software products and services catering to different requirements. Its big break through came when a partnership was formed with IBM, which resulted in microsoft providing a crucial operating system for IBM PCs.\n",
    "Since then, they have been providing operating systems for most of the PC's, at all consumer levels.They also entered the gaming and mobile phone market (i.e Xbox and windows mobile OS) and were succesful in capturing a large market share. They have also ventured into the videotelephony market with the aqcuisition of Skype and recently moved into cloud computing with Windows Azure Platform. \n",
    "___"
   ]
  },
  {
   "cell_type": "markdown",
   "metadata": {},
   "source": [
    "# Business Problem\n",
    "Microsoft sees all the big companies creating original video content and they want to get in on the fun. They have decided to create a new movie studio, but have no clue on how to create movies that'll do good in the boxoffice. We therefore are tasked with exploring what types of films are currently doing the best at the box office then translate our findings into actionable insights that will help the head of the new movie studio, decide what films to create.\n",
    ">**We are going to answer 3 Business problem questions:**\\\n",
    "        **1. Which types of movies should Microsoft create from their new studio?**\\\n",
    "        **2. Where should they focus(market) in terms of directing the resourses in order to get more return(gross revenue)?**\\\n",
    "        **3. How Long should their movies be in order to satsfy their audiences?**\n",
    "___"
   ]
  },
  {
   "cell_type": "markdown",
   "metadata": {},
   "source": [
    "# Data Understanding\n",
    "Movie rating sites have the longest running datasets of movie ratings and performance. we will focus on IMDB datasets on movies titles and ratings and also look at Box office Mojo's movies gross revenue dataset."
   ]
  },
  {
   "cell_type": "code",
   "execution_count": 39,
   "metadata": {},
   "outputs": [],
   "source": [
    "#Importing necessary libraries\n",
    "import pandas as pd\n",
    "import matplotlib.pyplot as plt\n",
    "%matplotlib inline"
   ]
  },
  {
   "cell_type": "code",
   "execution_count": 129,
   "metadata": {},
   "outputs": [],
   "source": [
    "import seaborn as sns"
   ]
  },
  {
   "cell_type": "code",
   "execution_count": 40,
   "metadata": {},
   "outputs": [
    {
     "data": {
      "text/html": [
       "<div>\n",
       "<style scoped>\n",
       "    .dataframe tbody tr th:only-of-type {\n",
       "        vertical-align: middle;\n",
       "    }\n",
       "\n",
       "    .dataframe tbody tr th {\n",
       "        vertical-align: top;\n",
       "    }\n",
       "\n",
       "    .dataframe thead th {\n",
       "        text-align: right;\n",
       "    }\n",
       "</style>\n",
       "<table border=\"1\" class=\"dataframe\">\n",
       "  <thead>\n",
       "    <tr style=\"text-align: right;\">\n",
       "      <th></th>\n",
       "      <th>tconst</th>\n",
       "      <th>primary_title</th>\n",
       "      <th>original_title</th>\n",
       "      <th>start_year</th>\n",
       "      <th>runtime_minutes</th>\n",
       "      <th>genres</th>\n",
       "    </tr>\n",
       "  </thead>\n",
       "  <tbody>\n",
       "    <tr>\n",
       "      <th>0</th>\n",
       "      <td>tt0063540</td>\n",
       "      <td>Sunghursh</td>\n",
       "      <td>Sunghursh</td>\n",
       "      <td>2013</td>\n",
       "      <td>175.0</td>\n",
       "      <td>Action,Crime,Drama</td>\n",
       "    </tr>\n",
       "    <tr>\n",
       "      <th>1</th>\n",
       "      <td>tt0066787</td>\n",
       "      <td>One Day Before the Rainy Season</td>\n",
       "      <td>Ashad Ka Ek Din</td>\n",
       "      <td>2019</td>\n",
       "      <td>114.0</td>\n",
       "      <td>Biography,Drama</td>\n",
       "    </tr>\n",
       "    <tr>\n",
       "      <th>2</th>\n",
       "      <td>tt0069049</td>\n",
       "      <td>The Other Side of the Wind</td>\n",
       "      <td>The Other Side of the Wind</td>\n",
       "      <td>2018</td>\n",
       "      <td>122.0</td>\n",
       "      <td>Drama</td>\n",
       "    </tr>\n",
       "    <tr>\n",
       "      <th>3</th>\n",
       "      <td>tt0069204</td>\n",
       "      <td>Sabse Bada Sukh</td>\n",
       "      <td>Sabse Bada Sukh</td>\n",
       "      <td>2018</td>\n",
       "      <td>NaN</td>\n",
       "      <td>Comedy,Drama</td>\n",
       "    </tr>\n",
       "    <tr>\n",
       "      <th>4</th>\n",
       "      <td>tt0100275</td>\n",
       "      <td>The Wandering Soap Opera</td>\n",
       "      <td>La Telenovela Errante</td>\n",
       "      <td>2017</td>\n",
       "      <td>80.0</td>\n",
       "      <td>Comedy,Drama,Fantasy</td>\n",
       "    </tr>\n",
       "  </tbody>\n",
       "</table>\n",
       "</div>"
      ],
      "text/plain": [
       "      tconst                    primary_title              original_title  \\\n",
       "0  tt0063540                        Sunghursh                   Sunghursh   \n",
       "1  tt0066787  One Day Before the Rainy Season             Ashad Ka Ek Din   \n",
       "2  tt0069049       The Other Side of the Wind  The Other Side of the Wind   \n",
       "3  tt0069204                  Sabse Bada Sukh             Sabse Bada Sukh   \n",
       "4  tt0100275         The Wandering Soap Opera       La Telenovela Errante   \n",
       "\n",
       "   start_year  runtime_minutes                genres  \n",
       "0        2013            175.0    Action,Crime,Drama  \n",
       "1        2019            114.0       Biography,Drama  \n",
       "2        2018            122.0                 Drama  \n",
       "3        2018              NaN          Comedy,Drama  \n",
       "4        2017             80.0  Comedy,Drama,Fantasy  "
      ]
     },
     "execution_count": 40,
     "metadata": {},
     "output_type": "execute_result"
    }
   ],
   "source": [
    "#loading imdb movie titles datsets\n",
    "imdb_titles = pd.read_csv('zippedData/imdb.title.basics.csv.gz')\n",
    "imdb_titles.head()"
   ]
  },
  {
   "cell_type": "code",
   "execution_count": 42,
   "metadata": {},
   "outputs": [
    {
     "data": {
      "text/html": [
       "<div>\n",
       "<style scoped>\n",
       "    .dataframe tbody tr th:only-of-type {\n",
       "        vertical-align: middle;\n",
       "    }\n",
       "\n",
       "    .dataframe tbody tr th {\n",
       "        vertical-align: top;\n",
       "    }\n",
       "\n",
       "    .dataframe thead th {\n",
       "        text-align: right;\n",
       "    }\n",
       "</style>\n",
       "<table border=\"1\" class=\"dataframe\">\n",
       "  <thead>\n",
       "    <tr style=\"text-align: right;\">\n",
       "      <th></th>\n",
       "      <th>tconst</th>\n",
       "      <th>averagerating</th>\n",
       "      <th>numvotes</th>\n",
       "    </tr>\n",
       "  </thead>\n",
       "  <tbody>\n",
       "    <tr>\n",
       "      <th>0</th>\n",
       "      <td>tt10356526</td>\n",
       "      <td>8.3</td>\n",
       "      <td>31</td>\n",
       "    </tr>\n",
       "    <tr>\n",
       "      <th>1</th>\n",
       "      <td>tt10384606</td>\n",
       "      <td>8.9</td>\n",
       "      <td>559</td>\n",
       "    </tr>\n",
       "    <tr>\n",
       "      <th>2</th>\n",
       "      <td>tt1042974</td>\n",
       "      <td>6.4</td>\n",
       "      <td>20</td>\n",
       "    </tr>\n",
       "    <tr>\n",
       "      <th>3</th>\n",
       "      <td>tt1043726</td>\n",
       "      <td>4.2</td>\n",
       "      <td>50352</td>\n",
       "    </tr>\n",
       "    <tr>\n",
       "      <th>4</th>\n",
       "      <td>tt1060240</td>\n",
       "      <td>6.5</td>\n",
       "      <td>21</td>\n",
       "    </tr>\n",
       "  </tbody>\n",
       "</table>\n",
       "</div>"
      ],
      "text/plain": [
       "       tconst  averagerating  numvotes\n",
       "0  tt10356526            8.3        31\n",
       "1  tt10384606            8.9       559\n",
       "2   tt1042974            6.4        20\n",
       "3   tt1043726            4.2     50352\n",
       "4   tt1060240            6.5        21"
      ]
     },
     "execution_count": 42,
     "metadata": {},
     "output_type": "execute_result"
    }
   ],
   "source": [
    "#loading imdb movie rating dataset\n",
    "imdb_ratings = pd.read_csv('zippedData/imdb.title.ratings.csv.gz')\n",
    "imdb_ratings.head()"
   ]
  },
  {
   "cell_type": "code",
   "execution_count": 43,
   "metadata": {},
   "outputs": [
    {
     "name": "stdout",
     "output_type": "stream",
     "text": [
      "<class 'pandas.core.frame.DataFrame'>\n",
      "RangeIndex: 146144 entries, 0 to 146143\n",
      "Data columns (total 6 columns):\n",
      " #   Column           Non-Null Count   Dtype  \n",
      "---  ------           --------------   -----  \n",
      " 0   tconst           146144 non-null  object \n",
      " 1   primary_title    146144 non-null  object \n",
      " 2   original_title   146123 non-null  object \n",
      " 3   start_year       146144 non-null  int64  \n",
      " 4   runtime_minutes  114405 non-null  float64\n",
      " 5   genres           140736 non-null  object \n",
      "dtypes: float64(1), int64(1), object(4)\n",
      "memory usage: 6.7+ MB\n"
     ]
    }
   ],
   "source": [
    "#concise summary of the imdb_titles datset.\n",
    "imdb_titles.info()"
   ]
  },
  {
   "cell_type": "markdown",
   "metadata": {},
   "source": [
    ">**From above information, we can see that the imdb_titles dataset has 146144 rows and 6 columns. The original_title, runtime_minutes and genres columns have null values. The datatypes of the columns are okay, we may not need to cahnge any of them later.**"
   ]
  },
  {
   "cell_type": "code",
   "execution_count": 52,
   "metadata": {},
   "outputs": [
    {
     "name": "stdout",
     "output_type": "stream",
     "text": [
      "original_title has 21 null values, 0.014369389095686446% of the column\n",
      "runtime_minutes has 31739 null values, 21.71762097657105% of the column\n",
      "genres has 5408 null values, 3.7004598204510617% of the column\n"
     ]
    }
   ],
   "source": [
    "#total number of null values for each column containing null values in the imdb_titles dataset.\n",
    "columns = ['original_title','runtime_minutes','genres']\n",
    "for column in columns:\n",
    "    print(f'{column} has {imdb_titles[column].isna().sum()} null values, {(imdb_titles[column].isna().sum())/146144*100}% of the column')"
   ]
  },
  {
   "cell_type": "code",
   "execution_count": 45,
   "metadata": {},
   "outputs": [
    {
     "name": "stdout",
     "output_type": "stream",
     "text": [
      "<class 'pandas.core.frame.DataFrame'>\n",
      "RangeIndex: 73856 entries, 0 to 73855\n",
      "Data columns (total 3 columns):\n",
      " #   Column         Non-Null Count  Dtype  \n",
      "---  ------         --------------  -----  \n",
      " 0   tconst         73856 non-null  object \n",
      " 1   averagerating  73856 non-null  float64\n",
      " 2   numvotes       73856 non-null  int64  \n",
      "dtypes: float64(1), int64(1), object(1)\n",
      "memory usage: 1.7+ MB\n"
     ]
    }
   ],
   "source": [
    "#concise summary of the imdb_ratings datset.\n",
    "imdb_ratings.info()"
   ]
  },
  {
   "cell_type": "markdown",
   "metadata": {},
   "source": [
    ">**From above information, we can see that the imdb_ratings dataset has 73856 rows and 3 columns. None of the columns have null values. The datatypes of the columns are okay, we may not need to cahnge any of them later.**\n",
    "______"
   ]
  },
  {
   "cell_type": "markdown",
   "metadata": {},
   "source": [
    "# Data Cleaning\n",
    "Dealing with:\n",
    "* Duplicated entries.\n",
    "* Missing/ Null values.\n",
    "* Outliers."
   ]
  },
  {
   "cell_type": "markdown",
   "metadata": {},
   "source": [
    "## Dealing with duplicated entries"
   ]
  },
  {
   "cell_type": "code",
   "execution_count": 59,
   "metadata": {},
   "outputs": [
    {
     "name": "stdout",
     "output_type": "stream",
     "text": [
      "imdb_titles dataset has 0 duplicated entries.\n",
      "imdb_ratings dataset has 0 duplicated entries.\n"
     ]
    }
   ],
   "source": [
    "#Checking for ducplicate entries from both datasets.\n",
    "print(f'imdb_titles dataset has {imdb_titles.duplicated().sum()} duplicated entries.')\n",
    "print(f'imdb_ratings dataset has {imdb_ratings.duplicated().sum()} duplicated entries.')"
   ]
  },
  {
   "cell_type": "markdown",
   "metadata": {},
   "source": [
    ">**We see that both imdb_titles and imdb_ratings datasets have no duplicated entries.**"
   ]
  },
  {
   "cell_type": "markdown",
   "metadata": {},
   "source": [
    "## Dealing with missing values.\n",
    "Earlier, we got to see that some of the columns in the imdb_titles dataset had columns with null values. These are the original_title, runtime_minutes and genres columns. Since the Datatype of these columns are different, we are going to deal with the missing values differently."
   ]
  },
  {
   "cell_type": "code",
   "execution_count": 61,
   "metadata": {},
   "outputs": [
    {
     "name": "stdout",
     "output_type": "stream",
     "text": [
      "original_title: object\n",
      "runtime_minutes: float64\n",
      "genres: object\n"
     ]
    }
   ],
   "source": [
    "#Checking the datatype of the columns with null values.\n",
    "for column in columns:\n",
    "    print(f'{column}: {imdb_titles[column].dtype}')"
   ]
  },
  {
   "cell_type": "markdown",
   "metadata": {},
   "source": [
    "* **For the original_title column, we will drop the rows with the null values since its datatype is string/object. This will also not affect the dataset a lot since the proportion of  rows with missing values is very small compared to the overall size of the dataset.**\n",
    "* **For runtime_minutes column, we will replace the null values with the median value of the subject column. Median is a good choice because it is least likely to influence the distribution of the dataset overally.**\n",
    "* **Lastly, for the genres column, we will replace the null values with '_Unknown_'.**"
   ]
  },
  {
   "cell_type": "code",
   "execution_count": 63,
   "metadata": {},
   "outputs": [],
   "source": [
    "#Replacing the null values in the runtime_minutes with the median of the column.\n",
    "imdb_titles['runtime_minutes'].fillna(imdb_titles['runtime_minutes'].median(), inplace=True)"
   ]
  },
  {
   "cell_type": "code",
   "execution_count": 65,
   "metadata": {},
   "outputs": [],
   "source": [
    "#Replacing null values in the genres column with string 'Unknown'.\n",
    "imdb_titles['genres'].fillna('Unknown', inplace=True)"
   ]
  },
  {
   "cell_type": "code",
   "execution_count": 67,
   "metadata": {},
   "outputs": [],
   "source": [
    "#Dropping rows with null values in the original_title column.\n",
    "imdb_titles.dropna(inplace=True)"
   ]
  },
  {
   "cell_type": "code",
   "execution_count": 70,
   "metadata": {},
   "outputs": [
    {
     "data": {
      "text/html": [
       "<div>\n",
       "<style scoped>\n",
       "    .dataframe tbody tr th:only-of-type {\n",
       "        vertical-align: middle;\n",
       "    }\n",
       "\n",
       "    .dataframe tbody tr th {\n",
       "        vertical-align: top;\n",
       "    }\n",
       "\n",
       "    .dataframe thead th {\n",
       "        text-align: right;\n",
       "    }\n",
       "</style>\n",
       "<table border=\"1\" class=\"dataframe\">\n",
       "  <thead>\n",
       "    <tr style=\"text-align: right;\">\n",
       "      <th></th>\n",
       "      <th>tconst</th>\n",
       "      <th>primary_title</th>\n",
       "      <th>original_title</th>\n",
       "      <th>start_year</th>\n",
       "      <th>runtime_minutes</th>\n",
       "      <th>genres</th>\n",
       "    </tr>\n",
       "  </thead>\n",
       "  <tbody>\n",
       "    <tr>\n",
       "      <th>138920</th>\n",
       "      <td>tt8962416</td>\n",
       "      <td>Izeh (Ezeh)</td>\n",
       "      <td>Izeh (Ezeh)</td>\n",
       "      <td>2019</td>\n",
       "      <td>15.0</td>\n",
       "      <td>Documentary</td>\n",
       "    </tr>\n",
       "    <tr>\n",
       "      <th>14455</th>\n",
       "      <td>tt1715819</td>\n",
       "      <td>Jimmy Tingle's American Dream</td>\n",
       "      <td>Jimmy Tingle's American Dream</td>\n",
       "      <td>2010</td>\n",
       "      <td>70.0</td>\n",
       "      <td>Comedy,Documentary</td>\n",
       "    </tr>\n",
       "    <tr>\n",
       "      <th>111139</th>\n",
       "      <td>tt6490152</td>\n",
       "      <td>SKIN</td>\n",
       "      <td>SKIN</td>\n",
       "      <td>2018</td>\n",
       "      <td>87.0</td>\n",
       "      <td>Drama</td>\n",
       "    </tr>\n",
       "    <tr>\n",
       "      <th>34024</th>\n",
       "      <td>tt2262526</td>\n",
       "      <td>Cadenas</td>\n",
       "      <td>Cadenas</td>\n",
       "      <td>2012</td>\n",
       "      <td>60.0</td>\n",
       "      <td>Documentary</td>\n",
       "    </tr>\n",
       "    <tr>\n",
       "      <th>114027</th>\n",
       "      <td>tt6732410</td>\n",
       "      <td>Search 4 Scratch</td>\n",
       "      <td>Search 4 Scratch</td>\n",
       "      <td>2017</td>\n",
       "      <td>90.0</td>\n",
       "      <td>Documentary</td>\n",
       "    </tr>\n",
       "  </tbody>\n",
       "</table>\n",
       "</div>"
      ],
      "text/plain": [
       "           tconst                  primary_title  \\\n",
       "138920  tt8962416                    Izeh (Ezeh)   \n",
       "14455   tt1715819  Jimmy Tingle's American Dream   \n",
       "111139  tt6490152                           SKIN   \n",
       "34024   tt2262526                        Cadenas   \n",
       "114027  tt6732410               Search 4 Scratch   \n",
       "\n",
       "                       original_title  start_year  runtime_minutes  \\\n",
       "138920                    Izeh (Ezeh)        2019             15.0   \n",
       "14455   Jimmy Tingle's American Dream        2010             70.0   \n",
       "111139                           SKIN        2018             87.0   \n",
       "34024                         Cadenas        2012             60.0   \n",
       "114027               Search 4 Scratch        2017             90.0   \n",
       "\n",
       "                    genres  \n",
       "138920         Documentary  \n",
       "14455   Comedy,Documentary  \n",
       "111139               Drama  \n",
       "34024          Documentary  \n",
       "114027         Documentary  "
      ]
     },
     "execution_count": 70,
     "metadata": {},
     "output_type": "execute_result"
    }
   ],
   "source": [
    "#Viewing the imdb_titles dataset after dealing with null values.\n",
    "imdb_titles.sample(5)"
   ]
  },
  {
   "cell_type": "code",
   "execution_count": 71,
   "metadata": {},
   "outputs": [
    {
     "name": "stdout",
     "output_type": "stream",
     "text": [
      "<class 'pandas.core.frame.DataFrame'>\n",
      "Int64Index: 146123 entries, 0 to 146143\n",
      "Data columns (total 6 columns):\n",
      " #   Column           Non-Null Count   Dtype  \n",
      "---  ------           --------------   -----  \n",
      " 0   tconst           146123 non-null  object \n",
      " 1   primary_title    146123 non-null  object \n",
      " 2   original_title   146123 non-null  object \n",
      " 3   start_year       146123 non-null  int64  \n",
      " 4   runtime_minutes  146123 non-null  float64\n",
      " 5   genres           146123 non-null  object \n",
      "dtypes: float64(1), int64(1), object(4)\n",
      "memory usage: 7.8+ MB\n"
     ]
    }
   ],
   "source": [
    "imdb_titles.info()"
   ]
  },
  {
   "cell_type": "markdown",
   "metadata": {},
   "source": [
    ">**We have been able to deal with all null values in our imdb_titles dataset.**\n",
    "_____"
   ]
  },
  {
   "cell_type": "markdown",
   "metadata": {},
   "source": [
    "## Checking for outliers."
   ]
  },
  {
   "cell_type": "code",
   "execution_count": 72,
   "metadata": {},
   "outputs": [
    {
     "data": {
      "text/html": [
       "<div>\n",
       "<style scoped>\n",
       "    .dataframe tbody tr th:only-of-type {\n",
       "        vertical-align: middle;\n",
       "    }\n",
       "\n",
       "    .dataframe tbody tr th {\n",
       "        vertical-align: top;\n",
       "    }\n",
       "\n",
       "    .dataframe thead th {\n",
       "        text-align: right;\n",
       "    }\n",
       "</style>\n",
       "<table border=\"1\" class=\"dataframe\">\n",
       "  <thead>\n",
       "    <tr style=\"text-align: right;\">\n",
       "      <th></th>\n",
       "      <th>start_year</th>\n",
       "      <th>runtime_minutes</th>\n",
       "    </tr>\n",
       "  </thead>\n",
       "  <tbody>\n",
       "    <tr>\n",
       "      <th>count</th>\n",
       "      <td>146123.000000</td>\n",
       "      <td>146123.000000</td>\n",
       "    </tr>\n",
       "    <tr>\n",
       "      <th>mean</th>\n",
       "      <td>2014.621497</td>\n",
       "      <td>86.362811</td>\n",
       "    </tr>\n",
       "    <tr>\n",
       "      <th>std</th>\n",
       "      <td>2.733586</td>\n",
       "      <td>147.201913</td>\n",
       "    </tr>\n",
       "    <tr>\n",
       "      <th>min</th>\n",
       "      <td>2010.000000</td>\n",
       "      <td>1.000000</td>\n",
       "    </tr>\n",
       "    <tr>\n",
       "      <th>25%</th>\n",
       "      <td>2012.000000</td>\n",
       "      <td>75.000000</td>\n",
       "    </tr>\n",
       "    <tr>\n",
       "      <th>50%</th>\n",
       "      <td>2015.000000</td>\n",
       "      <td>87.000000</td>\n",
       "    </tr>\n",
       "    <tr>\n",
       "      <th>75%</th>\n",
       "      <td>2017.000000</td>\n",
       "      <td>95.000000</td>\n",
       "    </tr>\n",
       "    <tr>\n",
       "      <th>max</th>\n",
       "      <td>2115.000000</td>\n",
       "      <td>51420.000000</td>\n",
       "    </tr>\n",
       "  </tbody>\n",
       "</table>\n",
       "</div>"
      ],
      "text/plain": [
       "          start_year  runtime_minutes\n",
       "count  146123.000000    146123.000000\n",
       "mean     2014.621497        86.362811\n",
       "std         2.733586       147.201913\n",
       "min      2010.000000         1.000000\n",
       "25%      2012.000000        75.000000\n",
       "50%      2015.000000        87.000000\n",
       "75%      2017.000000        95.000000\n",
       "max      2115.000000     51420.000000"
      ]
     },
     "execution_count": 72,
     "metadata": {},
     "output_type": "execute_result"
    }
   ],
   "source": [
    "#Summary descriptive stats for numerical columns in imdb_\n",
    "imdb_titles.describe()"
   ]
  },
  {
   "cell_type": "code",
   "execution_count": 77,
   "metadata": {},
   "outputs": [
    {
     "data": {
      "text/plain": [
       "<AxesSubplot:>"
      ]
     },
     "execution_count": 77,
     "metadata": {},
     "output_type": "execute_result"
    },
    {
     "data": {
      "image/png": "[encoded data removed]",
      "text/plain": [
       "<Figure size 720x720 with 1 Axes>"
      ]
     },
     "metadata": {
      "needs_background": "light"
     },
     "output_type": "display_data"
    }
   ],
   "source": [
    "#Boxplot of runtime_minutes column to assist check if there are ouliers in subject column\n",
    "imdb_titles['runtime_minutes'].plot(kind='box',figsize=(10,10))"
   ]
  },
  {
   "cell_type": "markdown",
   "metadata": {},
   "source": [
    ">**From above boxplot, we see that clearly there are outliers in our column. But this is expected since some films are ususally very long e.g Documentaries. Therefore we will handle this by binning the colunm to different caegories.**"
   ]
  },
  {
   "cell_type": "code",
   "execution_count": 91,
   "metadata": {},
   "outputs": [
    {
     "data": {
      "text/html": [
       "<div>\n",
       "<style scoped>\n",
       "    .dataframe tbody tr th:only-of-type {\n",
       "        vertical-align: middle;\n",
       "    }\n",
       "\n",
       "    .dataframe tbody tr th {\n",
       "        vertical-align: top;\n",
       "    }\n",
       "\n",
       "    .dataframe thead th {\n",
       "        text-align: right;\n",
       "    }\n",
       "</style>\n",
       "<table border=\"1\" class=\"dataframe\">\n",
       "  <thead>\n",
       "    <tr style=\"text-align: right;\">\n",
       "      <th></th>\n",
       "      <th>tconst</th>\n",
       "      <th>primary_title</th>\n",
       "      <th>original_title</th>\n",
       "      <th>start_year</th>\n",
       "      <th>runtime_minutes</th>\n",
       "      <th>genres</th>\n",
       "      <th>runtime_min_binned</th>\n",
       "    </tr>\n",
       "  </thead>\n",
       "  <tbody>\n",
       "    <tr>\n",
       "      <th>32915</th>\n",
       "      <td>tt2234275</td>\n",
       "      <td>Mister Twister: Class of Fun</td>\n",
       "      <td>Mees Kees</td>\n",
       "      <td>2012</td>\n",
       "      <td>80.0</td>\n",
       "      <td>Comedy,Family</td>\n",
       "      <td>Feature film</td>\n",
       "    </tr>\n",
       "    <tr>\n",
       "      <th>71390</th>\n",
       "      <td>tt4077656</td>\n",
       "      <td>Pipe Dream</td>\n",
       "      <td>Pipe Dream</td>\n",
       "      <td>2015</td>\n",
       "      <td>95.0</td>\n",
       "      <td>Comedy</td>\n",
       "      <td>Feature film</td>\n",
       "    </tr>\n",
       "    <tr>\n",
       "      <th>34687</th>\n",
       "      <td>tt2282006</td>\n",
       "      <td>Marcianise Terra di Pugili</td>\n",
       "      <td>Marcianise Terra di Pugili</td>\n",
       "      <td>2010</td>\n",
       "      <td>72.0</td>\n",
       "      <td>Documentary</td>\n",
       "      <td>Feature film</td>\n",
       "    </tr>\n",
       "    <tr>\n",
       "      <th>22792</th>\n",
       "      <td>tt1934241</td>\n",
       "      <td>DonT Stop</td>\n",
       "      <td>DonT Stop</td>\n",
       "      <td>2012</td>\n",
       "      <td>98.0</td>\n",
       "      <td>Drama,Music</td>\n",
       "      <td>Feature film</td>\n",
       "    </tr>\n",
       "    <tr>\n",
       "      <th>85469</th>\n",
       "      <td>tt4946336</td>\n",
       "      <td>Hunting Season</td>\n",
       "      <td>Hunting Season</td>\n",
       "      <td>2016</td>\n",
       "      <td>83.0</td>\n",
       "      <td>Thriller</td>\n",
       "      <td>Feature film</td>\n",
       "    </tr>\n",
       "    <tr>\n",
       "      <th>98270</th>\n",
       "      <td>tt5742304</td>\n",
       "      <td>Bodies</td>\n",
       "      <td>Paramedics</td>\n",
       "      <td>2016</td>\n",
       "      <td>98.0</td>\n",
       "      <td>Horror</td>\n",
       "      <td>Feature film</td>\n",
       "    </tr>\n",
       "    <tr>\n",
       "      <th>132886</th>\n",
       "      <td>tt8324474</td>\n",
       "      <td>Hope Aur Hum</td>\n",
       "      <td>Hope Aur Hum</td>\n",
       "      <td>2018</td>\n",
       "      <td>96.0</td>\n",
       "      <td>Comedy,Drama,Family</td>\n",
       "      <td>Feature film</td>\n",
       "    </tr>\n",
       "    <tr>\n",
       "      <th>124765</th>\n",
       "      <td>tt7588904</td>\n",
       "      <td>Nocturnal</td>\n",
       "      <td>Nocturnal</td>\n",
       "      <td>2018</td>\n",
       "      <td>87.0</td>\n",
       "      <td>Thriller</td>\n",
       "      <td>Feature film</td>\n",
       "    </tr>\n",
       "    <tr>\n",
       "      <th>54306</th>\n",
       "      <td>tt3194744</td>\n",
       "      <td>Silence</td>\n",
       "      <td>Silence</td>\n",
       "      <td>2013</td>\n",
       "      <td>66.0</td>\n",
       "      <td>Drama</td>\n",
       "      <td>Feature film</td>\n",
       "    </tr>\n",
       "    <tr>\n",
       "      <th>63103</th>\n",
       "      <td>tt3624544</td>\n",
       "      <td>Art Party</td>\n",
       "      <td>Art Party</td>\n",
       "      <td>2014</td>\n",
       "      <td>83.0</td>\n",
       "      <td>Drama</td>\n",
       "      <td>Feature film</td>\n",
       "    </tr>\n",
       "  </tbody>\n",
       "</table>\n",
       "</div>"
      ],
      "text/plain": [
       "           tconst                 primary_title              original_title  \\\n",
       "32915   tt2234275  Mister Twister: Class of Fun                   Mees Kees   \n",
       "71390   tt4077656                    Pipe Dream                  Pipe Dream   \n",
       "34687   tt2282006    Marcianise Terra di Pugili  Marcianise Terra di Pugili   \n",
       "22792   tt1934241                     DonT Stop                   DonT Stop   \n",
       "85469   tt4946336                Hunting Season              Hunting Season   \n",
       "98270   tt5742304                        Bodies                  Paramedics   \n",
       "132886  tt8324474                  Hope Aur Hum                Hope Aur Hum   \n",
       "124765  tt7588904                     Nocturnal                   Nocturnal   \n",
       "54306   tt3194744                       Silence                     Silence   \n",
       "63103   tt3624544                     Art Party                   Art Party   \n",
       "\n",
       "        start_year  runtime_minutes               genres runtime_min_binned  \n",
       "32915         2012             80.0        Comedy,Family       Feature film  \n",
       "71390         2015             95.0               Comedy       Feature film  \n",
       "34687         2010             72.0          Documentary       Feature film  \n",
       "22792         2012             98.0          Drama,Music       Feature film  \n",
       "85469         2016             83.0             Thriller       Feature film  \n",
       "98270         2016             98.0               Horror       Feature film  \n",
       "132886        2018             96.0  Comedy,Drama,Family       Feature film  \n",
       "124765        2018             87.0             Thriller       Feature film  \n",
       "54306         2013             66.0                Drama       Feature film  \n",
       "63103         2014             83.0                Drama       Feature film  "
      ]
     },
     "execution_count": 91,
     "metadata": {},
     "output_type": "execute_result"
    }
   ],
   "source": [
    "#Creating a new column where we have binned the movies according to their runtime minutes.\n",
    "imdb_titles['runtime_min_binned'] = imdb_titles['runtime_minutes'].map(lambda x: 'Short film' if x <= 60.0 else('Feature film' if x <= 210.0 else 'Long film'))\n",
    "imdb_titles.sample(10)"
   ]
  },
  {
   "cell_type": "code",
   "execution_count": 96,
   "metadata": {},
   "outputs": [
    {
     "data": {
      "text/plain": [
       "Feature film    124114\n",
       "Short film       21685\n",
       "Long film          324\n",
       "Name: runtime_min_binned, dtype: int64"
      ]
     },
     "execution_count": 96,
     "metadata": {},
     "output_type": "execute_result"
    }
   ],
   "source": [
    "#value counts for the runtime_min_binned column.\n",
    "imdb_titles['runtime_min_binned'].value_counts()"
   ]
  },
  {
   "cell_type": "code",
   "execution_count": 203,
   "metadata": {},
   "outputs": [
    {
     "data": {
      "text/plain": [
       "array([<AxesSubplot:ylabel='runtime_min_binned'>], dtype=object)"
      ]
     },
     "execution_count": 203,
     "metadata": {},
     "output_type": "execute_result"
    },
    {
     "data": {
      "image/png": "[encoded data removed]",
      "text/plain": [
       "<Figure size 720x720 with 1 Axes>"
      ]
     },
     "metadata": {},
     "output_type": "display_data"
    }
   ],
   "source": [
    "pd.DataFrame(imdb_titles['runtime_min_binned'].value_counts()).plot(kind='pie',subplots=True, figsize=(10,10),title='Pie chart of movie category in terms of runtime')"
   ]
  },
  {
   "cell_type": "markdown",
   "metadata": {},
   "source": [
    ">**From above Piechart we observe that most of the movies from out dataset can be categorized as feature films. This are films that run for more than 60 minutes but less than 210 minutes. This is according to the Academy of Motion Picture Arts and Sciences, the American Film Institute, the British Film Institute and the Screen Actors Guild.**\n",
    "___"
   ]
  },
  {
   "cell_type": "markdown",
   "metadata": {},
   "source": [
    ">Looking at the genres column in the imdb_titles dataset, we notice that they have categorized each movie entry into genres but most values are a combination of all the genres that the movie falls into. We can split this string values and remain with the first genre as the main genre of the movie(row)."
   ]
  },
  {
   "cell_type": "code",
   "execution_count": 112,
   "metadata": {},
   "outputs": [
    {
     "data": {
      "text/html": [
       "<div>\n",
       "<style scoped>\n",
       "    .dataframe tbody tr th:only-of-type {\n",
       "        vertical-align: middle;\n",
       "    }\n",
       "\n",
       "    .dataframe tbody tr th {\n",
       "        vertical-align: top;\n",
       "    }\n",
       "\n",
       "    .dataframe thead th {\n",
       "        text-align: right;\n",
       "    }\n",
       "</style>\n",
       "<table border=\"1\" class=\"dataframe\">\n",
       "  <thead>\n",
       "    <tr style=\"text-align: right;\">\n",
       "      <th></th>\n",
       "      <th>tconst</th>\n",
       "      <th>primary_title</th>\n",
       "      <th>original_title</th>\n",
       "      <th>start_year</th>\n",
       "      <th>runtime_minutes</th>\n",
       "      <th>genres</th>\n",
       "      <th>runtime_min_binned</th>\n",
       "      <th>genre_main</th>\n",
       "    </tr>\n",
       "  </thead>\n",
       "  <tbody>\n",
       "    <tr>\n",
       "      <th>96647</th>\n",
       "      <td>tt5640106</td>\n",
       "      <td>Jim Root: The Sound and the Story</td>\n",
       "      <td>Jim Root: The Sound and the Story</td>\n",
       "      <td>2014</td>\n",
       "      <td>304.0</td>\n",
       "      <td>Documentary</td>\n",
       "      <td>Long film</td>\n",
       "      <td>Documentary</td>\n",
       "    </tr>\n",
       "    <tr>\n",
       "      <th>58808</th>\n",
       "      <td>tt3421988</td>\n",
       "      <td>593 Vidas</td>\n",
       "      <td>593 Vidas</td>\n",
       "      <td>2013</td>\n",
       "      <td>87.0</td>\n",
       "      <td>Drama</td>\n",
       "      <td>Feature film</td>\n",
       "      <td>Drama</td>\n",
       "    </tr>\n",
       "    <tr>\n",
       "      <th>116659</th>\n",
       "      <td>tt6936746</td>\n",
       "      <td>God Bliss Our Home</td>\n",
       "      <td>God Bliss Our Home</td>\n",
       "      <td>2017</td>\n",
       "      <td>87.0</td>\n",
       "      <td>Animation,Documentary</td>\n",
       "      <td>Feature film</td>\n",
       "      <td>Animation</td>\n",
       "    </tr>\n",
       "    <tr>\n",
       "      <th>84132</th>\n",
       "      <td>tt4862056</td>\n",
       "      <td>Us</td>\n",
       "      <td>Us</td>\n",
       "      <td>2015</td>\n",
       "      <td>75.0</td>\n",
       "      <td>Comedy</td>\n",
       "      <td>Feature film</td>\n",
       "      <td>Comedy</td>\n",
       "    </tr>\n",
       "    <tr>\n",
       "      <th>103512</th>\n",
       "      <td>tt6064602</td>\n",
       "      <td>The 2 of Us</td>\n",
       "      <td>The 2 of Us</td>\n",
       "      <td>2016</td>\n",
       "      <td>30.0</td>\n",
       "      <td>Biography,Documentary,Music</td>\n",
       "      <td>Short film</td>\n",
       "      <td>Biography</td>\n",
       "    </tr>\n",
       "    <tr>\n",
       "      <th>86856</th>\n",
       "      <td>tt5039912</td>\n",
       "      <td>Thirst for love</td>\n",
       "      <td>Thirst for love</td>\n",
       "      <td>2015</td>\n",
       "      <td>108.0</td>\n",
       "      <td>Crime,Drama,Fantasy</td>\n",
       "      <td>Feature film</td>\n",
       "      <td>Crime</td>\n",
       "    </tr>\n",
       "    <tr>\n",
       "      <th>36910</th>\n",
       "      <td>tt2342266</td>\n",
       "      <td>Orion</td>\n",
       "      <td>Orion</td>\n",
       "      <td>2015</td>\n",
       "      <td>110.0</td>\n",
       "      <td>Action,Drama,Fantasy</td>\n",
       "      <td>Feature film</td>\n",
       "      <td>Action</td>\n",
       "    </tr>\n",
       "    <tr>\n",
       "      <th>88299</th>\n",
       "      <td>tt5124082</td>\n",
       "      <td>Heartstrings</td>\n",
       "      <td>Le coeur en braille</td>\n",
       "      <td>2016</td>\n",
       "      <td>85.0</td>\n",
       "      <td>Comedy,Drama</td>\n",
       "      <td>Feature film</td>\n",
       "      <td>Comedy</td>\n",
       "    </tr>\n",
       "    <tr>\n",
       "      <th>30392</th>\n",
       "      <td>tt2156927</td>\n",
       "      <td>País do Desejo</td>\n",
       "      <td>País do Desejo</td>\n",
       "      <td>2012</td>\n",
       "      <td>87.0</td>\n",
       "      <td>Drama</td>\n",
       "      <td>Feature film</td>\n",
       "      <td>Drama</td>\n",
       "    </tr>\n",
       "    <tr>\n",
       "      <th>111124</th>\n",
       "      <td>tt6488870</td>\n",
       "      <td>East of Sweden</td>\n",
       "      <td>Kääntöpiste</td>\n",
       "      <td>2018</td>\n",
       "      <td>104.0</td>\n",
       "      <td>Drama,Thriller</td>\n",
       "      <td>Feature film</td>\n",
       "      <td>Drama</td>\n",
       "    </tr>\n",
       "    <tr>\n",
       "      <th>34818</th>\n",
       "      <td>tt2287703</td>\n",
       "      <td>Diversity 3D</td>\n",
       "      <td>Diversity 3D</td>\n",
       "      <td>2011</td>\n",
       "      <td>87.0</td>\n",
       "      <td>Music</td>\n",
       "      <td>Feature film</td>\n",
       "      <td>Music</td>\n",
       "    </tr>\n",
       "    <tr>\n",
       "      <th>143174</th>\n",
       "      <td>tt9480404</td>\n",
       "      <td>It's Alive, But Is It Life: Synthetic Biology ...</td>\n",
       "      <td>It's Alive, But Is It Life: Synthetic Biology ...</td>\n",
       "      <td>2016</td>\n",
       "      <td>87.0</td>\n",
       "      <td>Documentary</td>\n",
       "      <td>Feature film</td>\n",
       "      <td>Documentary</td>\n",
       "    </tr>\n",
       "    <tr>\n",
       "      <th>63247</th>\n",
       "      <td>tt3634004</td>\n",
       "      <td>The Mysterious Melody</td>\n",
       "      <td>Mu Tiya Mu the Mysterious Melody</td>\n",
       "      <td>2015</td>\n",
       "      <td>108.0</td>\n",
       "      <td>Adventure,Family,Mystery</td>\n",
       "      <td>Feature film</td>\n",
       "      <td>Adventure</td>\n",
       "    </tr>\n",
       "    <tr>\n",
       "      <th>12533</th>\n",
       "      <td>tt1664753</td>\n",
       "      <td>One Life</td>\n",
       "      <td>One Life</td>\n",
       "      <td>2010</td>\n",
       "      <td>91.0</td>\n",
       "      <td>Comedy,Drama,Mystery</td>\n",
       "      <td>Feature film</td>\n",
       "      <td>Comedy</td>\n",
       "    </tr>\n",
       "    <tr>\n",
       "      <th>33923</th>\n",
       "      <td>tt2261629</td>\n",
       "      <td>Hilton!</td>\n",
       "      <td>Hilton!</td>\n",
       "      <td>2013</td>\n",
       "      <td>78.0</td>\n",
       "      <td>Documentary,Romance</td>\n",
       "      <td>Feature film</td>\n",
       "      <td>Documentary</td>\n",
       "    </tr>\n",
       "  </tbody>\n",
       "</table>\n",
       "</div>"
      ],
      "text/plain": [
       "           tconst                                      primary_title  \\\n",
       "96647   tt5640106                  Jim Root: The Sound and the Story   \n",
       "58808   tt3421988                                          593 Vidas   \n",
       "116659  tt6936746                                 God Bliss Our Home   \n",
       "84132   tt4862056                                                 Us   \n",
       "103512  tt6064602                                        The 2 of Us   \n",
       "86856   tt5039912                                    Thirst for love   \n",
       "36910   tt2342266                                              Orion   \n",
       "88299   tt5124082                                       Heartstrings   \n",
       "30392   tt2156927                                     País do Desejo   \n",
       "111124  tt6488870                                     East of Sweden   \n",
       "34818   tt2287703                                       Diversity 3D   \n",
       "143174  tt9480404  It's Alive, But Is It Life: Synthetic Biology ...   \n",
       "63247   tt3634004                              The Mysterious Melody   \n",
       "12533   tt1664753                                           One Life   \n",
       "33923   tt2261629                                            Hilton!   \n",
       "\n",
       "                                           original_title  start_year  \\\n",
       "96647                   Jim Root: The Sound and the Story        2014   \n",
       "58808                                           593 Vidas        2013   \n",
       "116659                                 God Bliss Our Home        2017   \n",
       "84132                                                  Us        2015   \n",
       "103512                                        The 2 of Us        2016   \n",
       "86856                                     Thirst for love        2015   \n",
       "36910                                               Orion        2015   \n",
       "88299                                 Le coeur en braille        2016   \n",
       "30392                                      País do Desejo        2012   \n",
       "111124                                        Kääntöpiste        2018   \n",
       "34818                                        Diversity 3D        2011   \n",
       "143174  It's Alive, But Is It Life: Synthetic Biology ...        2016   \n",
       "63247                    Mu Tiya Mu the Mysterious Melody        2015   \n",
       "12533                                            One Life        2010   \n",
       "33923                                             Hilton!        2013   \n",
       "\n",
       "        runtime_minutes                       genres runtime_min_binned  \\\n",
       "96647             304.0                  Documentary          Long film   \n",
       "58808              87.0                        Drama       Feature film   \n",
       "116659             87.0        Animation,Documentary       Feature film   \n",
       "84132              75.0                       Comedy       Feature film   \n",
       "103512             30.0  Biography,Documentary,Music         Short film   \n",
       "86856             108.0          Crime,Drama,Fantasy       Feature film   \n",
       "36910             110.0         Action,Drama,Fantasy       Feature film   \n",
       "88299              85.0                 Comedy,Drama       Feature film   \n",
       "30392              87.0                        Drama       Feature film   \n",
       "111124            104.0               Drama,Thriller       Feature film   \n",
       "34818              87.0                        Music       Feature film   \n",
       "143174             87.0                  Documentary       Feature film   \n",
       "63247             108.0     Adventure,Family,Mystery       Feature film   \n",
       "12533              91.0         Comedy,Drama,Mystery       Feature film   \n",
       "33923              78.0          Documentary,Romance       Feature film   \n",
       "\n",
       "         genre_main  \n",
       "96647   Documentary  \n",
       "58808         Drama  \n",
       "116659    Animation  \n",
       "84132        Comedy  \n",
       "103512    Biography  \n",
       "86856         Crime  \n",
       "36910        Action  \n",
       "88299        Comedy  \n",
       "30392         Drama  \n",
       "111124        Drama  \n",
       "34818         Music  \n",
       "143174  Documentary  \n",
       "63247     Adventure  \n",
       "12533        Comedy  \n",
       "33923   Documentary  "
      ]
     },
     "execution_count": 112,
     "metadata": {},
     "output_type": "execute_result"
    }
   ],
   "source": [
    "#New column with split values of the string values in the genre column.\n",
    "imdb_titles['genre_main'] = imdb_titles['genres'].map(lambda x: x.split(',')[0])\n",
    "imdb_titles.sample(15)"
   ]
  },
  {
   "cell_type": "code",
   "execution_count": 202,
   "metadata": {},
   "outputs": [
    {
     "data": {
      "text/plain": [
       "<AxesSubplot:title={'center':'Bar plot of value_counts of thr main genres'}>"
      ]
     },
     "execution_count": 202,
     "metadata": {},
     "output_type": "execute_result"
    },
    {
     "data": {
      "image/png": "[encoded data removed]",
      "text/plain": [
       "<Figure size 1080x720 with 1 Axes>"
      ]
     },
     "metadata": {},
     "output_type": "display_data"
    }
   ],
   "source": [
    "#Bargraph of value_counts of the genre_main column\n",
    "pd.DataFrame(imdb_titles['genre_main'].value_counts()).plot(kind='bar',figsize=(15,10), title='Bar plot of value_counts of thr main genres')"
   ]
  },
  {
   "cell_type": "markdown",
   "metadata": {},
   "source": [
    ">**We can observe that the highest no. of films created during the time our dataset was aggregated, were documentaries.**\n",
    "___"
   ]
  },
  {
   "cell_type": "markdown",
   "metadata": {},
   "source": [
    "## Merging our datasets"
   ]
  },
  {
   "cell_type": "code",
   "execution_count": 128,
   "metadata": {},
   "outputs": [
    {
     "data": {
      "text/html": [
       "<div>\n",
       "<style scoped>\n",
       "    .dataframe tbody tr th:only-of-type {\n",
       "        vertical-align: middle;\n",
       "    }\n",
       "\n",
       "    .dataframe tbody tr th {\n",
       "        vertical-align: top;\n",
       "    }\n",
       "\n",
       "    .dataframe thead th {\n",
       "        text-align: right;\n",
       "    }\n",
       "</style>\n",
       "<table border=\"1\" class=\"dataframe\">\n",
       "  <thead>\n",
       "    <tr style=\"text-align: right;\">\n",
       "      <th></th>\n",
       "      <th>tconst</th>\n",
       "      <th>primary_title</th>\n",
       "      <th>original_title</th>\n",
       "      <th>start_year</th>\n",
       "      <th>runtime_minutes</th>\n",
       "      <th>genres</th>\n",
       "      <th>runtime_min_binned</th>\n",
       "      <th>genre_main</th>\n",
       "      <th>averagerating</th>\n",
       "      <th>numvotes</th>\n",
       "    </tr>\n",
       "  </thead>\n",
       "  <tbody>\n",
       "    <tr>\n",
       "      <th>0</th>\n",
       "      <td>tt0063540</td>\n",
       "      <td>Sunghursh</td>\n",
       "      <td>Sunghursh</td>\n",
       "      <td>2013</td>\n",
       "      <td>175.0</td>\n",
       "      <td>Action,Crime,Drama</td>\n",
       "      <td>Feature film</td>\n",
       "      <td>Action</td>\n",
       "      <td>7.0</td>\n",
       "      <td>77</td>\n",
       "    </tr>\n",
       "    <tr>\n",
       "      <th>1</th>\n",
       "      <td>tt0066787</td>\n",
       "      <td>One Day Before the Rainy Season</td>\n",
       "      <td>Ashad Ka Ek Din</td>\n",
       "      <td>2019</td>\n",
       "      <td>114.0</td>\n",
       "      <td>Biography,Drama</td>\n",
       "      <td>Feature film</td>\n",
       "      <td>Biography</td>\n",
       "      <td>7.2</td>\n",
       "      <td>43</td>\n",
       "    </tr>\n",
       "    <tr>\n",
       "      <th>2</th>\n",
       "      <td>tt0069049</td>\n",
       "      <td>The Other Side of the Wind</td>\n",
       "      <td>The Other Side of the Wind</td>\n",
       "      <td>2018</td>\n",
       "      <td>122.0</td>\n",
       "      <td>Drama</td>\n",
       "      <td>Feature film</td>\n",
       "      <td>Drama</td>\n",
       "      <td>6.9</td>\n",
       "      <td>4517</td>\n",
       "    </tr>\n",
       "    <tr>\n",
       "      <th>3</th>\n",
       "      <td>tt0069204</td>\n",
       "      <td>Sabse Bada Sukh</td>\n",
       "      <td>Sabse Bada Sukh</td>\n",
       "      <td>2018</td>\n",
       "      <td>87.0</td>\n",
       "      <td>Comedy,Drama</td>\n",
       "      <td>Feature film</td>\n",
       "      <td>Comedy</td>\n",
       "      <td>6.1</td>\n",
       "      <td>13</td>\n",
       "    </tr>\n",
       "    <tr>\n",
       "      <th>4</th>\n",
       "      <td>tt0100275</td>\n",
       "      <td>The Wandering Soap Opera</td>\n",
       "      <td>La Telenovela Errante</td>\n",
       "      <td>2017</td>\n",
       "      <td>80.0</td>\n",
       "      <td>Comedy,Drama,Fantasy</td>\n",
       "      <td>Feature film</td>\n",
       "      <td>Comedy</td>\n",
       "      <td>6.5</td>\n",
       "      <td>119</td>\n",
       "    </tr>\n",
       "    <tr>\n",
       "      <th>5</th>\n",
       "      <td>tt0112502</td>\n",
       "      <td>Bigfoot</td>\n",
       "      <td>Bigfoot</td>\n",
       "      <td>2017</td>\n",
       "      <td>87.0</td>\n",
       "      <td>Horror,Thriller</td>\n",
       "      <td>Feature film</td>\n",
       "      <td>Horror</td>\n",
       "      <td>4.1</td>\n",
       "      <td>32</td>\n",
       "    </tr>\n",
       "    <tr>\n",
       "      <th>6</th>\n",
       "      <td>tt0137204</td>\n",
       "      <td>Joe Finds Grace</td>\n",
       "      <td>Joe Finds Grace</td>\n",
       "      <td>2017</td>\n",
       "      <td>83.0</td>\n",
       "      <td>Adventure,Animation,Comedy</td>\n",
       "      <td>Feature film</td>\n",
       "      <td>Adventure</td>\n",
       "      <td>8.1</td>\n",
       "      <td>263</td>\n",
       "    </tr>\n",
       "    <tr>\n",
       "      <th>7</th>\n",
       "      <td>tt0146592</td>\n",
       "      <td>Pál Adrienn</td>\n",
       "      <td>Pál Adrienn</td>\n",
       "      <td>2010</td>\n",
       "      <td>136.0</td>\n",
       "      <td>Drama</td>\n",
       "      <td>Feature film</td>\n",
       "      <td>Drama</td>\n",
       "      <td>6.8</td>\n",
       "      <td>451</td>\n",
       "    </tr>\n",
       "    <tr>\n",
       "      <th>8</th>\n",
       "      <td>tt0154039</td>\n",
       "      <td>So Much for Justice!</td>\n",
       "      <td>Oda az igazság</td>\n",
       "      <td>2010</td>\n",
       "      <td>100.0</td>\n",
       "      <td>History</td>\n",
       "      <td>Feature film</td>\n",
       "      <td>History</td>\n",
       "      <td>4.6</td>\n",
       "      <td>64</td>\n",
       "    </tr>\n",
       "    <tr>\n",
       "      <th>9</th>\n",
       "      <td>tt0159369</td>\n",
       "      <td>Cooper and Hemingway: The True Gen</td>\n",
       "      <td>Cooper and Hemingway: The True Gen</td>\n",
       "      <td>2013</td>\n",
       "      <td>180.0</td>\n",
       "      <td>Documentary</td>\n",
       "      <td>Feature film</td>\n",
       "      <td>Documentary</td>\n",
       "      <td>7.6</td>\n",
       "      <td>53</td>\n",
       "    </tr>\n",
       "  </tbody>\n",
       "</table>\n",
       "</div>"
      ],
      "text/plain": [
       "      tconst                       primary_title  \\\n",
       "0  tt0063540                           Sunghursh   \n",
       "1  tt0066787     One Day Before the Rainy Season   \n",
       "2  tt0069049          The Other Side of the Wind   \n",
       "3  tt0069204                     Sabse Bada Sukh   \n",
       "4  tt0100275            The Wandering Soap Opera   \n",
       "5  tt0112502                             Bigfoot   \n",
       "6  tt0137204                     Joe Finds Grace   \n",
       "7  tt0146592                         Pál Adrienn   \n",
       "8  tt0154039                So Much for Justice!   \n",
       "9  tt0159369  Cooper and Hemingway: The True Gen   \n",
       "\n",
       "                       original_title  start_year  runtime_minutes  \\\n",
       "0                           Sunghursh        2013            175.0   \n",
       "1                     Ashad Ka Ek Din        2019            114.0   \n",
       "2          The Other Side of the Wind        2018            122.0   \n",
       "3                     Sabse Bada Sukh        2018             87.0   \n",
       "4               La Telenovela Errante        2017             80.0   \n",
       "5                             Bigfoot        2017             87.0   \n",
       "6                     Joe Finds Grace        2017             83.0   \n",
       "7                         Pál Adrienn        2010            136.0   \n",
       "8                      Oda az igazság        2010            100.0   \n",
       "9  Cooper and Hemingway: The True Gen        2013            180.0   \n",
       "\n",
       "                       genres runtime_min_binned   genre_main  averagerating  \\\n",
       "0          Action,Crime,Drama       Feature film       Action            7.0   \n",
       "1             Biography,Drama       Feature film    Biography            7.2   \n",
       "2                       Drama       Feature film        Drama            6.9   \n",
       "3                Comedy,Drama       Feature film       Comedy            6.1   \n",
       "4        Comedy,Drama,Fantasy       Feature film       Comedy            6.5   \n",
       "5             Horror,Thriller       Feature film       Horror            4.1   \n",
       "6  Adventure,Animation,Comedy       Feature film    Adventure            8.1   \n",
       "7                       Drama       Feature film        Drama            6.8   \n",
       "8                     History       Feature film      History            4.6   \n",
       "9                 Documentary       Feature film  Documentary            7.6   \n",
       "\n",
       "   numvotes  \n",
       "0        77  \n",
       "1        43  \n",
       "2      4517  \n",
       "3        13  \n",
       "4       119  \n",
       "5        32  \n",
       "6       263  \n",
       "7       451  \n",
       "8        64  \n",
       "9        53  "
      ]
     },
     "execution_count": 128,
     "metadata": {},
     "output_type": "execute_result"
    }
   ],
   "source": [
    "#We merger our datasets in order to get all the movies information in one dataset. Our merged dataset will have less entries \n",
    "#since the imdb_ratings dataset has less entries compared to the imdb_titles dataset.\n",
    "imdb_merged = imdb_titles.merge(imdb_ratings, on='tconst')\n",
    "imdb_merged.head(10)"
   ]
  },
  {
   "cell_type": "markdown",
   "metadata": {},
   "source": [
    "## Exploratory Data Analysis"
   ]
  },
  {
   "cell_type": "code",
   "execution_count": 204,
   "metadata": {},
   "outputs": [
    {
     "data": {
      "text/plain": [
       "<AxesSubplot:title={'center':'Bar graph of average rating against genres'}, xlabel='genre_main', ylabel='median averagerating'>"
      ]
     },
     "execution_count": 204,
     "metadata": {},
     "output_type": "execute_result"
    },
    {
     "data": {
      "image/png": "[encoded data removed]",
      "text/plain": [
       "<Figure size 842.4x595.44 with 1 Axes>"
      ]
     },
     "metadata": {},
     "output_type": "display_data"
    }
   ],
   "source": [
    "#bar graph of averege rating against the main genres in the imdb dataset\n",
    "imdb_merged.groupby('genre_main')['averagerating'].median().sort_values().plot(kind='bar', ylabel='median averagerating', rot=70, title='Bar graph of average rating against genres')"
   ]
  },
  {
   "cell_type": "markdown",
   "metadata": {},
   "source": [
    "___"
   ]
  },
  {
   "cell_type": "code",
   "execution_count": 182,
   "metadata": {},
   "outputs": [
    {
     "data": {
      "text/plain": [
       "<AxesSubplot:xlabel='runtime_min_binned', ylabel='median averagerating'>"
      ]
     },
     "execution_count": 182,
     "metadata": {},
     "output_type": "execute_result"
    },
    {
     "data": {
      "image/png": "[encoded data removed]",
      "text/plain": [
       "<Figure size 842.4x595.44 with 1 Axes>"
      ]
     },
     "metadata": {},
     "output_type": "display_data"
    }
   ],
   "source": [
    "imdb_merged.groupby('runtime_min_binned')['averagerating'].median().sort_values().plot(kind='bar',ylabel='median averagerating',rot=70)"
   ]
  },
  {
   "cell_type": "markdown",
   "metadata": {},
   "source": [
    ">**From above bar graph, we observe that the longer films have a higher ratings than the other 2 categories of movies.**"
   ]
  },
  {
   "cell_type": "code",
   "execution_count": 209,
   "metadata": {},
   "outputs": [
    {
     "data": {
      "text/plain": [
       "<AxesSubplot:title={'center':'Number of votes against main genre'}, xlabel='genre_main', ylabel='number of vote'>"
      ]
     },
     "execution_count": 209,
     "metadata": {},
     "output_type": "execute_result"
    },
    {
     "data": {
      "image/png": "[encoded data removed]",
      "text/plain": [
       "<Figure size 842.4x595.44 with 1 Axes>"
      ]
     },
     "metadata": {},
     "output_type": "display_data"
    }
   ],
   "source": [
    "imdb_merged.groupby('genre_main')['numvotes'].sum().sort_values().plot(kind='bar',ylabel='number of vote',rot=70,title='Number of votes against main genre')"
   ]
  },
  {
   "cell_type": "markdown",
   "metadata": {},
   "source": [
    "# Loading Second Dataset"
   ]
  },
  {
   "cell_type": "code",
   "execution_count": 169,
   "metadata": {},
   "outputs": [
    {
     "data": {
      "text/html": [
       "<div>\n",
       "<style scoped>\n",
       "    .dataframe tbody tr th:only-of-type {\n",
       "        vertical-align: middle;\n",
       "    }\n",
       "\n",
       "    .dataframe tbody tr th {\n",
       "        vertical-align: top;\n",
       "    }\n",
       "\n",
       "    .dataframe thead th {\n",
       "        text-align: right;\n",
       "    }\n",
       "</style>\n",
       "<table border=\"1\" class=\"dataframe\">\n",
       "  <thead>\n",
       "    <tr style=\"text-align: right;\">\n",
       "      <th></th>\n",
       "      <th>title</th>\n",
       "      <th>studio</th>\n",
       "      <th>domestic_gross</th>\n",
       "      <th>foreign_gross</th>\n",
       "      <th>year</th>\n",
       "    </tr>\n",
       "  </thead>\n",
       "  <tbody>\n",
       "    <tr>\n",
       "      <th>0</th>\n",
       "      <td>Toy Story 3</td>\n",
       "      <td>BV</td>\n",
       "      <td>415000000.0</td>\n",
       "      <td>652000000</td>\n",
       "      <td>2010</td>\n",
       "    </tr>\n",
       "    <tr>\n",
       "      <th>1</th>\n",
       "      <td>Alice in Wonderland (2010)</td>\n",
       "      <td>BV</td>\n",
       "      <td>334200000.0</td>\n",
       "      <td>691300000</td>\n",
       "      <td>2010</td>\n",
       "    </tr>\n",
       "    <tr>\n",
       "      <th>2</th>\n",
       "      <td>Harry Potter and the Deathly Hallows Part 1</td>\n",
       "      <td>WB</td>\n",
       "      <td>296000000.0</td>\n",
       "      <td>664300000</td>\n",
       "      <td>2010</td>\n",
       "    </tr>\n",
       "    <tr>\n",
       "      <th>3</th>\n",
       "      <td>Inception</td>\n",
       "      <td>WB</td>\n",
       "      <td>292600000.0</td>\n",
       "      <td>535700000</td>\n",
       "      <td>2010</td>\n",
       "    </tr>\n",
       "    <tr>\n",
       "      <th>4</th>\n",
       "      <td>Shrek Forever After</td>\n",
       "      <td>P/DW</td>\n",
       "      <td>238700000.0</td>\n",
       "      <td>513900000</td>\n",
       "      <td>2010</td>\n",
       "    </tr>\n",
       "  </tbody>\n",
       "</table>\n",
       "</div>"
      ],
      "text/plain": [
       "                                         title studio  domestic_gross  \\\n",
       "0                                  Toy Story 3     BV     415000000.0   \n",
       "1                   Alice in Wonderland (2010)     BV     334200000.0   \n",
       "2  Harry Potter and the Deathly Hallows Part 1     WB     296000000.0   \n",
       "3                                    Inception     WB     292600000.0   \n",
       "4                          Shrek Forever After   P/DW     238700000.0   \n",
       "\n",
       "  foreign_gross  year  \n",
       "0     652000000  2010  \n",
       "1     691300000  2010  \n",
       "2     664300000  2010  \n",
       "3     535700000  2010  \n",
       "4     513900000  2010  "
      ]
     },
     "execution_count": 169,
     "metadata": {},
     "output_type": "execute_result"
    }
   ],
   "source": [
    "bom_gross = pd.read_csv('zippedData/bom.movie_gross.csv.gz')\n",
    "bom_gross.head()"
   ]
  },
  {
   "cell_type": "markdown",
   "metadata": {},
   "source": [
    "## Data Understanding"
   ]
  },
  {
   "cell_type": "code",
   "execution_count": 170,
   "metadata": {},
   "outputs": [
    {
     "name": "stdout",
     "output_type": "stream",
     "text": [
      "<class 'pandas.core.frame.DataFrame'>\n",
      "RangeIndex: 3387 entries, 0 to 3386\n",
      "Data columns (total 5 columns):\n",
      " #   Column          Non-Null Count  Dtype  \n",
      "---  ------          --------------  -----  \n",
      " 0   title           3387 non-null   object \n",
      " 1   studio          3382 non-null   object \n",
      " 2   domestic_gross  3359 non-null   float64\n",
      " 3   foreign_gross   2037 non-null   object \n",
      " 4   year            3387 non-null   int64  \n",
      "dtypes: float64(1), int64(1), object(3)\n",
      "memory usage: 132.4+ KB\n"
     ]
    }
   ],
   "source": [
    "bom_gross.info()"
   ]
  },
  {
   "cell_type": "markdown",
   "metadata": {},
   "source": [
    ">**We observe that the dataset has 3387 rows and 5 columns. the data structure of the dataset is off, since the datatye of the foreign_gross column is object. We also have null values in the studio, domestric_gross and foreign_gross columns.**\n",
    "___"
   ]
  },
  {
   "cell_type": "markdown",
   "metadata": {},
   "source": [
    "## Data Cleaning"
   ]
  },
  {
   "cell_type": "markdown",
   "metadata": {},
   "source": [
    "#### Changing the datatype of the foreign_gross column"
   ]
  },
  {
   "cell_type": "code",
   "execution_count": 173,
   "metadata": {},
   "outputs": [],
   "source": [
    "#Converting the datatype of the foreign_gross column to float.\n",
    "bom_gross['foreign_gross'] = pd.to_numeric(bom_gross['foreign_gross'],errors='coerce')"
   ]
  },
  {
   "cell_type": "code",
   "execution_count": 177,
   "metadata": {},
   "outputs": [
    {
     "name": "stdout",
     "output_type": "stream",
     "text": [
      "<class 'pandas.core.frame.DataFrame'>\n",
      "RangeIndex: 3387 entries, 0 to 3386\n",
      "Data columns (total 5 columns):\n",
      " #   Column          Non-Null Count  Dtype  \n",
      "---  ------          --------------  -----  \n",
      " 0   title           3387 non-null   object \n",
      " 1   studio          3382 non-null   object \n",
      " 2   domestic_gross  3359 non-null   float64\n",
      " 3   foreign_gross   2032 non-null   float64\n",
      " 4   year            3387 non-null   int64  \n",
      "dtypes: float64(2), int64(1), object(2)\n",
      "memory usage: 132.4+ KB\n"
     ]
    }
   ],
   "source": [
    "bom_gross.info()"
   ]
  },
  {
   "cell_type": "markdown",
   "metadata": {},
   "source": [
    ">**Data type of the foreign_gross column is now float.**\n",
    "___"
   ]
  },
  {
   "cell_type": "markdown",
   "metadata": {},
   "source": [
    "### Dealing with the Null values"
   ]
  },
  {
   "cell_type": "code",
   "execution_count": 178,
   "metadata": {},
   "outputs": [],
   "source": [
    "#Replacing the null values in the domestic_gross and foreign_gross columns\n",
    "bom_gross['domestic_gross'].fillna(bom_gross['domestic_gross'].median(), inplace=True)\n",
    "bom_gross['foreign_gross'].fillna(bom_gross['foreign_gross'].median(), inplace=True)"
   ]
  },
  {
   "cell_type": "code",
   "execution_count": 179,
   "metadata": {},
   "outputs": [],
   "source": [
    "#Dropping the rows with null values in the studio column.\n",
    "bom_gross.dropna(inplace=True)"
   ]
  },
  {
   "cell_type": "code",
   "execution_count": 180,
   "metadata": {},
   "outputs": [
    {
     "name": "stdout",
     "output_type": "stream",
     "text": [
      "<class 'pandas.core.frame.DataFrame'>\n",
      "Int64Index: 3382 entries, 0 to 3386\n",
      "Data columns (total 5 columns):\n",
      " #   Column          Non-Null Count  Dtype  \n",
      "---  ------          --------------  -----  \n",
      " 0   title           3382 non-null   object \n",
      " 1   studio          3382 non-null   object \n",
      " 2   domestic_gross  3382 non-null   float64\n",
      " 3   foreign_gross   3382 non-null   float64\n",
      " 4   year            3382 non-null   int64  \n",
      "dtypes: float64(2), int64(1), object(2)\n",
      "memory usage: 158.5+ KB\n"
     ]
    }
   ],
   "source": [
    "#Checking the dataset after data cleaning\n",
    "bom_gross.info()"
   ]
  },
  {
   "cell_type": "code",
   "execution_count": 181,
   "metadata": {},
   "outputs": [
    {
     "data": {
      "text/plain": [
       "title             0\n",
       "studio            0\n",
       "domestic_gross    0\n",
       "foreign_gross     0\n",
       "year              0\n",
       "dtype: int64"
      ]
     },
     "execution_count": 181,
     "metadata": {},
     "output_type": "execute_result"
    }
   ],
   "source": [
    "#Checking sum of null values for each column.\n",
    "bom_gross.isna().sum()"
   ]
  },
  {
   "cell_type": "markdown",
   "metadata": {},
   "source": [
    ">**We have dealt with all null values in our dataset.**\n",
    "___"
   ]
  },
  {
   "cell_type": "code",
   "execution_count": 201,
   "metadata": {},
   "outputs": [
    {
     "name": "stderr",
     "output_type": "stream",
     "text": [
      "<ipython-input-201-9c242bf2f15c>:1: FutureWarning: Indexing with multiple keys (implicitly converted to a tuple of keys) will be deprecated, use a list instead.\n",
      "  bom_gross.groupby('year')['domestic_gross','foreign_gross'].mean().plot(kind='bar',figsize=(15,9),rot=70,ylabel='gross_revenue')\n"
     ]
    },
    {
     "data": {
      "text/plain": [
       "<AxesSubplot:xlabel='year', ylabel='gross_revenue'>"
      ]
     },
     "execution_count": 201,
     "metadata": {},
     "output_type": "execute_result"
    },
    {
     "data": {
      "image/png": "[encoded data removed]",
      "text/plain": [
       "<Figure size 1080x648 with 1 Axes>"
      ]
     },
     "metadata": {},
     "output_type": "display_data"
    }
   ],
   "source": [
    "#\n",
    "bom_gross.groupby('year')['domestic_gross','foreign_gross'].mean().plot(kind='bar',figsize=(15,9),rot=70,ylabel='gross_revenue')"
   ]
  },
  {
   "cell_type": "markdown",
   "metadata": {},
   "source": [
    ">**From above bar graph, we observe that over the years that the gross revenue information was collected, foreign gross revenue was always higher than domestic gross revenue.**"
   ]
  },
  {
   "cell_type": "code",
   "execution_count": 207,
   "metadata": {},
   "outputs": [
    {
     "data": {
      "text/plain": [
       "Text(0.5, 1.0, 'Scatter plot of foreign_gross revenue against domestic_gross revenue')"
      ]
     },
     "execution_count": 207,
     "metadata": {},
     "output_type": "execute_result"
    },
    {
     "data": {
      "image/png": "[encoded data removed]",
      "text/plain": [
       "<Figure size 842.4x595.44 with 1 Axes>"
      ]
     },
     "metadata": {},
     "output_type": "display_data"
    }
   ],
   "source": [
    "#Scatter plot of domestic_gross revenue against foreign gross revenue.\n",
    "x = bom_gross['domestic_gross']\n",
    "y = bom_gross['foreign_gross']\n",
    "plt.scatter(x,y)\n",
    "plt.xlabel('domestic_gross')\n",
    "plt.ylabel('foreign_gross')\n",
    "plt.title('Scatter plot of foreign_gross revenue against domestic_gross revenue')"
   ]
  },
  {
   "cell_type": "code",
   "execution_count": 200,
   "metadata": {},
   "outputs": [
    {
     "data": {
      "text/plain": [
       "0.7860752222766418"
      ]
     },
     "execution_count": 200,
     "metadata": {},
     "output_type": "execute_result"
    }
   ],
   "source": [
    "#Correlation coeff of domestic gross revenue and foreign gross revenue.\n",
    "bom_gross['domestic_gross'].corr(bom_gross['foreign_gross'])"
   ]
  },
  {
   "cell_type": "markdown",
   "metadata": {},
   "source": [
    ">**We are able to observe that the domestic and foreign gross domestic revenues have stron positive correlation which is also supported by the correlation coefficient calculated above. Therefore the more the domestic gross increases, the foreign gross revenue also inreases.**\n",
    "___"
   ]
  },
  {
   "cell_type": "markdown",
   "metadata": {},
   "source": [
    "# Conclusions"
   ]
  },
  {
   "cell_type": "markdown",
   "metadata": {},
   "source": [
    "This analysis leads to three recommendations that will help the head of the new Microsoft movie studio decide what films to create.\n",
    ">* **They should focus on creating long films. These are films with run times greater than 210 minutes.From our analysis, this type of film had the highest average ratings therefore meaning that the consumers of the subject films really enjoyed them.**\n",
    ">* **As much as the foreign market brings in more gross revenue from the films, they should try focus their resources in both markets. This is beacause of the strong positive correlation between the gross revenues of the two markets. Also, they should create films that really capture auduinces from both markets since. The gross revnues in the two markets might have huge differences but we have to put into consideration that the foreign market is very large compared to the domestic one, hence the disparity.**\n",
    ">* **As much as we observe that from average ratings, the longer films are higly rated, from the number of votes, we see that the feature films(60mins < runtime < 210mins) are have the highest number of vote. This translates to more people watching the subject films. Therefore the should also focus on this feature films since they have a large audience hence more people watching.**"
   ]
  },
  {
   "cell_type": "markdown",
   "metadata": {},
   "source": [
    "## Future Plans\n",
    "> We plan to use updated data in order to also provide updated insights to head of Micrsoft's new movie studio."
   ]
  }
 ],
 "metadata": {
  "kernelspec": {
   "display_name": "Python 3",
   "language": "python",
   "name": "python3"
  },
  "language_info": {
   "codemirror_mode": {
    "name": "ipython",
    "version": 3
   },
   "file_extension": ".py",
   "mimetype": "text/x-python",
   "name": "python",
   "nbconvert_exporter": "python",
   "pygments_lexer": "ipython3",
   "version": "3.8.5"
  }
 },
 "nbformat": 4,
 "nbformat_minor": 2
}
